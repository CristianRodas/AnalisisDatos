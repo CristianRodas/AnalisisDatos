{
 "cells": [
  {
   "cell_type": "markdown",
   "id": "de844908-dd79-415a-9b29-4780b5a3e050",
   "metadata": {},
   "source": [
    "# Analisis de Datos Tarea 5 Regresión Logistica\n",
    "# Tutor: Ferley Medina Rojas*"
   ]
  },
  {
   "cell_type": "markdown",
   "id": "01118b21-e767-47fb-a89d-5d1dfa295776",
   "metadata": {},
   "source": [
    "# Introducción\n",
    "La siguiente actividad, desarrolla el ejercicio de regresion logistica el cual intentara predecir, si la persona pudo o no sobrevivir segun diversas variables como lo podran ser la edad, el sexo o la clase en la que se ubicaba al interior del barco.\n",
    "Para llevar a cabo esto se hace necesario, primero estudiar la base de datos, ajustar la base de datos y limpiar la base de datos, posterior a esto se seleccionaran las variables mas Representativas"
   ]
  },
  {
   "cell_type": "markdown",
   "id": "0af0bc78-9d26-4a61-816f-1956ae5e0976",
   "metadata": {},
   "source": [
    "**Procedo a importar las librerias**"
   ]
  },
  {
   "cell_type": "code",
   "execution_count": 53,
   "id": "4d64ddb2-be55-4c0a-b4f4-90e542f26f2e",
   "metadata": {},
   "outputs": [],
   "source": [
    "#cargar librerias necesarias\n",
    "import pandas as pd\n",
    "import numpy as np\n",
    "import seaborn as sns\n",
    "import matplotlib.pyplot as plt\n",
    "#librerias ciencias de datos\n",
    "from sklearn import metrics\n",
    "from sklearn.model_selection import train_test_split\n",
    "from sklearn.linear_model import LogisticRegression\n",
    "#from sklearn.linear_model import LinearRegression regresion \n",
    "from sklearn.metrics import classification_report, confusion_matrix"
   ]
  },
  {
   "cell_type": "markdown",
   "id": "212b876f-2362-4816-83f4-f27a18121887",
   "metadata": {},
   "source": [
    "<font color='red'> **Cargo el archivo en esta parte se carga el archivo titanic**</font>"
   ]
  },
  {
   "cell_type": "code",
   "execution_count": 54,
   "id": "522890ca-03b0-4a40-8461-665f63b63103",
   "metadata": {},
   "outputs": [],
   "source": [
    "Datos = pd.DataFrame(pd.read_csv('Titanic1.csv'))\n"
   ]
  },
  {
   "cell_type": "code",
   "execution_count": 55,
   "id": "e6720cab-c903-46d4-bc37-7e5042e772ca",
   "metadata": {},
   "outputs": [
    {
     "data": {
      "text/html": [
       "<div>\n",
       "<style scoped>\n",
       "    .dataframe tbody tr th:only-of-type {\n",
       "        vertical-align: middle;\n",
       "    }\n",
       "\n",
       "    .dataframe tbody tr th {\n",
       "        vertical-align: top;\n",
       "    }\n",
       "\n",
       "    .dataframe thead th {\n",
       "        text-align: right;\n",
       "    }\n",
       "</style>\n",
       "<table border=\"1\" class=\"dataframe\">\n",
       "  <thead>\n",
       "    <tr style=\"text-align: right;\">\n",
       "      <th></th>\n",
       "      <th>PassengerId</th>\n",
       "      <th>Survived</th>\n",
       "      <th>Pclass</th>\n",
       "      <th>Name</th>\n",
       "      <th>Sex</th>\n",
       "      <th>Age</th>\n",
       "      <th>SibSp</th>\n",
       "      <th>Parch</th>\n",
       "      <th>Ticket</th>\n",
       "      <th>Fare</th>\n",
       "      <th>Cabin</th>\n",
       "      <th>Embarked</th>\n",
       "    </tr>\n",
       "  </thead>\n",
       "  <tbody>\n",
       "    <tr>\n",
       "      <th>0</th>\n",
       "      <td>1</td>\n",
       "      <td>0</td>\n",
       "      <td>3</td>\n",
       "      <td>Braund, Mr. Owen Harris</td>\n",
       "      <td>male</td>\n",
       "      <td>22.0</td>\n",
       "      <td>1</td>\n",
       "      <td>0</td>\n",
       "      <td>A/5 21171</td>\n",
       "      <td>7.2500</td>\n",
       "      <td>NaN</td>\n",
       "      <td>S</td>\n",
       "    </tr>\n",
       "    <tr>\n",
       "      <th>1</th>\n",
       "      <td>2</td>\n",
       "      <td>1</td>\n",
       "      <td>1</td>\n",
       "      <td>Cumings, Mrs. John Bradley (Florence Briggs Th...</td>\n",
       "      <td>female</td>\n",
       "      <td>38.0</td>\n",
       "      <td>1</td>\n",
       "      <td>0</td>\n",
       "      <td>PC 17599</td>\n",
       "      <td>71.2833</td>\n",
       "      <td>C85</td>\n",
       "      <td>C</td>\n",
       "    </tr>\n",
       "    <tr>\n",
       "      <th>2</th>\n",
       "      <td>3</td>\n",
       "      <td>1</td>\n",
       "      <td>3</td>\n",
       "      <td>Heikkinen, Miss. Laina</td>\n",
       "      <td>female</td>\n",
       "      <td>26.0</td>\n",
       "      <td>0</td>\n",
       "      <td>0</td>\n",
       "      <td>STON/O2. 3101282</td>\n",
       "      <td>7.9250</td>\n",
       "      <td>NaN</td>\n",
       "      <td>S</td>\n",
       "    </tr>\n",
       "    <tr>\n",
       "      <th>3</th>\n",
       "      <td>4</td>\n",
       "      <td>1</td>\n",
       "      <td>1</td>\n",
       "      <td>Futrelle, Mrs. Jacques Heath (Lily May Peel)</td>\n",
       "      <td>female</td>\n",
       "      <td>35.0</td>\n",
       "      <td>1</td>\n",
       "      <td>0</td>\n",
       "      <td>113803</td>\n",
       "      <td>53.1000</td>\n",
       "      <td>C123</td>\n",
       "      <td>S</td>\n",
       "    </tr>\n",
       "    <tr>\n",
       "      <th>4</th>\n",
       "      <td>5</td>\n",
       "      <td>0</td>\n",
       "      <td>3</td>\n",
       "      <td>Allen, Mr. William Henry</td>\n",
       "      <td>male</td>\n",
       "      <td>35.0</td>\n",
       "      <td>0</td>\n",
       "      <td>0</td>\n",
       "      <td>373450</td>\n",
       "      <td>8.0500</td>\n",
       "      <td>NaN</td>\n",
       "      <td>S</td>\n",
       "    </tr>\n",
       "  </tbody>\n",
       "</table>\n",
       "</div>"
      ],
      "text/plain": [
       "   PassengerId  Survived  Pclass  \\\n",
       "0            1         0       3   \n",
       "1            2         1       1   \n",
       "2            3         1       3   \n",
       "3            4         1       1   \n",
       "4            5         0       3   \n",
       "\n",
       "                                                Name     Sex   Age  SibSp  \\\n",
       "0                            Braund, Mr. Owen Harris    male  22.0      1   \n",
       "1  Cumings, Mrs. John Bradley (Florence Briggs Th...  female  38.0      1   \n",
       "2                             Heikkinen, Miss. Laina  female  26.0      0   \n",
       "3       Futrelle, Mrs. Jacques Heath (Lily May Peel)  female  35.0      1   \n",
       "4                           Allen, Mr. William Henry    male  35.0      0   \n",
       "\n",
       "   Parch            Ticket     Fare Cabin Embarked  \n",
       "0      0         A/5 21171   7.2500   NaN        S  \n",
       "1      0          PC 17599  71.2833   C85        C  \n",
       "2      0  STON/O2. 3101282   7.9250   NaN        S  \n",
       "3      0            113803  53.1000  C123        S  \n",
       "4      0            373450   8.0500   NaN        S  "
      ]
     },
     "execution_count": 55,
     "metadata": {},
     "output_type": "execute_result"
    }
   ],
   "source": [
    "Datos.head()"
   ]
  },
  {
   "cell_type": "markdown",
   "id": "c9858907-b1c2-4a14-8e25-b9d0f379c3d2",
   "metadata": {},
   "source": [
    "# En esta parte se cambia el encabezado pues aparecen en ingles, como buenas practicas se pasa a español"
   ]
  },
  {
   "cell_type": "code",
   "execution_count": 56,
   "id": "29c2c0fd-8efb-435f-8b16-47782c1150c1",
   "metadata": {},
   "outputs": [],
   "source": [
    "Datos.columns = ['IdPasajero', 'Sobrevivió', 'Clase', 'Nombre', 'Sexo', 'Edad', 'ParientesSibSp', 'ParientesParch', 'Boleto', 'Tarifa', 'Cabina', 'Embarcado']"
   ]
  },
  {
   "cell_type": "markdown",
   "id": "bab543b0-9ed7-4fb8-8ad0-ed45347752e1",
   "metadata": {},
   "source": [
    "**Valido los Cambios para verificar los nuevos nombres**"
   ]
  },
  {
   "cell_type": "code",
   "execution_count": 57,
   "id": "afee7220-cf46-4ae4-977f-89560bfaad25",
   "metadata": {},
   "outputs": [
    {
     "data": {
      "text/html": [
       "<div>\n",
       "<style scoped>\n",
       "    .dataframe tbody tr th:only-of-type {\n",
       "        vertical-align: middle;\n",
       "    }\n",
       "\n",
       "    .dataframe tbody tr th {\n",
       "        vertical-align: top;\n",
       "    }\n",
       "\n",
       "    .dataframe thead th {\n",
       "        text-align: right;\n",
       "    }\n",
       "</style>\n",
       "<table border=\"1\" class=\"dataframe\">\n",
       "  <thead>\n",
       "    <tr style=\"text-align: right;\">\n",
       "      <th></th>\n",
       "      <th>IdPasajero</th>\n",
       "      <th>Sobrevivió</th>\n",
       "      <th>Clase</th>\n",
       "      <th>Nombre</th>\n",
       "      <th>Sexo</th>\n",
       "      <th>Edad</th>\n",
       "      <th>ParientesSibSp</th>\n",
       "      <th>ParientesParch</th>\n",
       "      <th>Boleto</th>\n",
       "      <th>Tarifa</th>\n",
       "      <th>Cabina</th>\n",
       "      <th>Embarcado</th>\n",
       "    </tr>\n",
       "  </thead>\n",
       "  <tbody>\n",
       "    <tr>\n",
       "      <th>0</th>\n",
       "      <td>1</td>\n",
       "      <td>0</td>\n",
       "      <td>3</td>\n",
       "      <td>Braund, Mr. Owen Harris</td>\n",
       "      <td>male</td>\n",
       "      <td>22.0</td>\n",
       "      <td>1</td>\n",
       "      <td>0</td>\n",
       "      <td>A/5 21171</td>\n",
       "      <td>7.2500</td>\n",
       "      <td>NaN</td>\n",
       "      <td>S</td>\n",
       "    </tr>\n",
       "    <tr>\n",
       "      <th>1</th>\n",
       "      <td>2</td>\n",
       "      <td>1</td>\n",
       "      <td>1</td>\n",
       "      <td>Cumings, Mrs. John Bradley (Florence Briggs Th...</td>\n",
       "      <td>female</td>\n",
       "      <td>38.0</td>\n",
       "      <td>1</td>\n",
       "      <td>0</td>\n",
       "      <td>PC 17599</td>\n",
       "      <td>71.2833</td>\n",
       "      <td>C85</td>\n",
       "      <td>C</td>\n",
       "    </tr>\n",
       "    <tr>\n",
       "      <th>2</th>\n",
       "      <td>3</td>\n",
       "      <td>1</td>\n",
       "      <td>3</td>\n",
       "      <td>Heikkinen, Miss. Laina</td>\n",
       "      <td>female</td>\n",
       "      <td>26.0</td>\n",
       "      <td>0</td>\n",
       "      <td>0</td>\n",
       "      <td>STON/O2. 3101282</td>\n",
       "      <td>7.9250</td>\n",
       "      <td>NaN</td>\n",
       "      <td>S</td>\n",
       "    </tr>\n",
       "    <tr>\n",
       "      <th>3</th>\n",
       "      <td>4</td>\n",
       "      <td>1</td>\n",
       "      <td>1</td>\n",
       "      <td>Futrelle, Mrs. Jacques Heath (Lily May Peel)</td>\n",
       "      <td>female</td>\n",
       "      <td>35.0</td>\n",
       "      <td>1</td>\n",
       "      <td>0</td>\n",
       "      <td>113803</td>\n",
       "      <td>53.1000</td>\n",
       "      <td>C123</td>\n",
       "      <td>S</td>\n",
       "    </tr>\n",
       "    <tr>\n",
       "      <th>4</th>\n",
       "      <td>5</td>\n",
       "      <td>0</td>\n",
       "      <td>3</td>\n",
       "      <td>Allen, Mr. William Henry</td>\n",
       "      <td>male</td>\n",
       "      <td>35.0</td>\n",
       "      <td>0</td>\n",
       "      <td>0</td>\n",
       "      <td>373450</td>\n",
       "      <td>8.0500</td>\n",
       "      <td>NaN</td>\n",
       "      <td>S</td>\n",
       "    </tr>\n",
       "    <tr>\n",
       "      <th>5</th>\n",
       "      <td>6</td>\n",
       "      <td>0</td>\n",
       "      <td>3</td>\n",
       "      <td>Moran, Mr. James</td>\n",
       "      <td>male</td>\n",
       "      <td>NaN</td>\n",
       "      <td>0</td>\n",
       "      <td>0</td>\n",
       "      <td>330877</td>\n",
       "      <td>8.4583</td>\n",
       "      <td>NaN</td>\n",
       "      <td>Q</td>\n",
       "    </tr>\n",
       "    <tr>\n",
       "      <th>6</th>\n",
       "      <td>7</td>\n",
       "      <td>0</td>\n",
       "      <td>1</td>\n",
       "      <td>McCarthy, Mr. Timothy J</td>\n",
       "      <td>male</td>\n",
       "      <td>54.0</td>\n",
       "      <td>0</td>\n",
       "      <td>0</td>\n",
       "      <td>17463</td>\n",
       "      <td>51.8625</td>\n",
       "      <td>E46</td>\n",
       "      <td>S</td>\n",
       "    </tr>\n",
       "    <tr>\n",
       "      <th>7</th>\n",
       "      <td>8</td>\n",
       "      <td>0</td>\n",
       "      <td>3</td>\n",
       "      <td>Palsson, Master. Gosta Leonard</td>\n",
       "      <td>male</td>\n",
       "      <td>2.0</td>\n",
       "      <td>3</td>\n",
       "      <td>1</td>\n",
       "      <td>349909</td>\n",
       "      <td>21.0750</td>\n",
       "      <td>NaN</td>\n",
       "      <td>S</td>\n",
       "    </tr>\n",
       "    <tr>\n",
       "      <th>8</th>\n",
       "      <td>9</td>\n",
       "      <td>1</td>\n",
       "      <td>3</td>\n",
       "      <td>Johnson, Mrs. Oscar W (Elisabeth Vilhelmina Berg)</td>\n",
       "      <td>female</td>\n",
       "      <td>27.0</td>\n",
       "      <td>0</td>\n",
       "      <td>2</td>\n",
       "      <td>347742</td>\n",
       "      <td>11.1333</td>\n",
       "      <td>NaN</td>\n",
       "      <td>S</td>\n",
       "    </tr>\n",
       "    <tr>\n",
       "      <th>9</th>\n",
       "      <td>10</td>\n",
       "      <td>1</td>\n",
       "      <td>2</td>\n",
       "      <td>Nasser, Mrs. Nicholas (Adele Achem)</td>\n",
       "      <td>female</td>\n",
       "      <td>14.0</td>\n",
       "      <td>1</td>\n",
       "      <td>0</td>\n",
       "      <td>237736</td>\n",
       "      <td>30.0708</td>\n",
       "      <td>NaN</td>\n",
       "      <td>C</td>\n",
       "    </tr>\n",
       "  </tbody>\n",
       "</table>\n",
       "</div>"
      ],
      "text/plain": [
       "   IdPasajero  Sobrevivió  Clase  \\\n",
       "0           1           0      3   \n",
       "1           2           1      1   \n",
       "2           3           1      3   \n",
       "3           4           1      1   \n",
       "4           5           0      3   \n",
       "5           6           0      3   \n",
       "6           7           0      1   \n",
       "7           8           0      3   \n",
       "8           9           1      3   \n",
       "9          10           1      2   \n",
       "\n",
       "                                              Nombre    Sexo  Edad  \\\n",
       "0                            Braund, Mr. Owen Harris    male  22.0   \n",
       "1  Cumings, Mrs. John Bradley (Florence Briggs Th...  female  38.0   \n",
       "2                             Heikkinen, Miss. Laina  female  26.0   \n",
       "3       Futrelle, Mrs. Jacques Heath (Lily May Peel)  female  35.0   \n",
       "4                           Allen, Mr. William Henry    male  35.0   \n",
       "5                                   Moran, Mr. James    male   NaN   \n",
       "6                            McCarthy, Mr. Timothy J    male  54.0   \n",
       "7                     Palsson, Master. Gosta Leonard    male   2.0   \n",
       "8  Johnson, Mrs. Oscar W (Elisabeth Vilhelmina Berg)  female  27.0   \n",
       "9                Nasser, Mrs. Nicholas (Adele Achem)  female  14.0   \n",
       "\n",
       "   ParientesSibSp  ParientesParch            Boleto   Tarifa Cabina Embarcado  \n",
       "0               1               0         A/5 21171   7.2500    NaN         S  \n",
       "1               1               0          PC 17599  71.2833    C85         C  \n",
       "2               0               0  STON/O2. 3101282   7.9250    NaN         S  \n",
       "3               1               0            113803  53.1000   C123         S  \n",
       "4               0               0            373450   8.0500    NaN         S  \n",
       "5               0               0            330877   8.4583    NaN         Q  \n",
       "6               0               0             17463  51.8625    E46         S  \n",
       "7               3               1            349909  21.0750    NaN         S  \n",
       "8               0               2            347742  11.1333    NaN         S  \n",
       "9               1               0            237736  30.0708    NaN         C  "
      ]
     },
     "execution_count": 57,
     "metadata": {},
     "output_type": "execute_result"
    }
   ],
   "source": [
    "Datos.head(10)"
   ]
  },
  {
   "cell_type": "markdown",
   "id": "6d9c97b4-e8b2-41b0-8c69-01b0281824b9",
   "metadata": {},
   "source": [
    "# En esta parte valido el tipo de dato que tengo para cada una de las columnas"
   ]
  },
  {
   "cell_type": "code",
   "execution_count": 58,
   "id": "0b102fca-613d-445c-a0bc-519e88167aba",
   "metadata": {},
   "outputs": [
    {
     "name": "stdout",
     "output_type": "stream",
     "text": [
      "<class 'pandas.core.frame.DataFrame'>\n",
      "RangeIndex: 891 entries, 0 to 890\n",
      "Data columns (total 12 columns):\n",
      " #   Column          Non-Null Count  Dtype  \n",
      "---  ------          --------------  -----  \n",
      " 0   IdPasajero      891 non-null    int64  \n",
      " 1   Sobrevivió      891 non-null    int64  \n",
      " 2   Clase           891 non-null    int64  \n",
      " 3   Nombre          891 non-null    object \n",
      " 4   Sexo            891 non-null    object \n",
      " 5   Edad            714 non-null    float64\n",
      " 6   ParientesSibSp  891 non-null    int64  \n",
      " 7   ParientesParch  891 non-null    int64  \n",
      " 8   Boleto          891 non-null    object \n",
      " 9   Tarifa          891 non-null    float64\n",
      " 10  Cabina          204 non-null    object \n",
      " 11  Embarcado       889 non-null    object \n",
      "dtypes: float64(2), int64(5), object(5)\n",
      "memory usage: 83.7+ KB\n"
     ]
    }
   ],
   "source": [
    "Datos.info()"
   ]
  },
  {
   "cell_type": "markdown",
   "id": "6a6e16d5-1e54-41f6-a5f0-b998b0419ee7",
   "metadata": {},
   "source": [
    "<font color='red'>\n",
    "En este caso se tienen variables que no son representativas como lo son Parientes SIB, Parientes Parch, Boleto, por lo que se  procede a borrar estos datos como parte de la limpieza, el sexo se convierte a tipo int para una posible regresion analizando estas 2 variables </font>*"
   ]
  },
  {
   "cell_type": "code",
   "execution_count": 59,
   "id": "747a0754-cb08-4188-9839-abda3a831227",
   "metadata": {},
   "outputs": [],
   "source": [
    "Datos = Datos.drop(columns=['ParientesSibSp', 'ParientesParch', 'Boleto'])"
   ]
  },
  {
   "cell_type": "code",
   "execution_count": 60,
   "id": "baa06927-d564-4045-9e90-2d07030b733d",
   "metadata": {},
   "outputs": [
    {
     "name": "stdout",
     "output_type": "stream",
     "text": [
      "<class 'pandas.core.frame.DataFrame'>\n",
      "RangeIndex: 891 entries, 0 to 890\n",
      "Data columns (total 9 columns):\n",
      " #   Column      Non-Null Count  Dtype  \n",
      "---  ------      --------------  -----  \n",
      " 0   IdPasajero  891 non-null    int64  \n",
      " 1   Sobrevivió  891 non-null    int64  \n",
      " 2   Clase       891 non-null    int64  \n",
      " 3   Nombre      891 non-null    object \n",
      " 4   Sexo        891 non-null    object \n",
      " 5   Edad        714 non-null    float64\n",
      " 6   Tarifa      891 non-null    float64\n",
      " 7   Cabina      204 non-null    object \n",
      " 8   Embarcado   889 non-null    object \n",
      "dtypes: float64(2), int64(3), object(4)\n",
      "memory usage: 62.8+ KB\n"
     ]
    }
   ],
   "source": [
    "Datos.info()"
   ]
  },
  {
   "cell_type": "markdown",
   "id": "49f19b8a-0f36-49c9-b984-b81a27c4bd07",
   "metadata": {},
   "source": [
    "# En esta parte tenemos el sexo de la persona en (tipo objet), lo paso a entero de forma que 0= sea hombre y 1 sea = Mujer"
   ]
  },
  {
   "cell_type": "code",
   "execution_count": 61,
   "id": "10d44dde-8f23-47ea-b75a-c3747b8c9d77",
   "metadata": {},
   "outputs": [],
   "source": [
    "Datos['Sexo'] = Datos['Sexo'].replace({'male': 0, 'female': 1})"
   ]
  },
  {
   "cell_type": "code",
   "execution_count": 62,
   "id": "b8b8f3d3-8b65-45e3-8be7-6e7c53f7270e",
   "metadata": {},
   "outputs": [
    {
     "name": "stdout",
     "output_type": "stream",
     "text": [
      "<class 'pandas.core.frame.DataFrame'>\n",
      "RangeIndex: 891 entries, 0 to 890\n",
      "Data columns (total 9 columns):\n",
      " #   Column      Non-Null Count  Dtype  \n",
      "---  ------      --------------  -----  \n",
      " 0   IdPasajero  891 non-null    int64  \n",
      " 1   Sobrevivió  891 non-null    int64  \n",
      " 2   Clase       891 non-null    int64  \n",
      " 3   Nombre      891 non-null    object \n",
      " 4   Sexo        891 non-null    int64  \n",
      " 5   Edad        714 non-null    float64\n",
      " 6   Tarifa      891 non-null    float64\n",
      " 7   Cabina      204 non-null    object \n",
      " 8   Embarcado   889 non-null    object \n",
      "dtypes: float64(2), int64(4), object(3)\n",
      "memory usage: 62.8+ KB\n"
     ]
    }
   ],
   "source": [
    "Datos.info()"
   ]
  },
  {
   "cell_type": "markdown",
   "id": "d08fc5af-390b-422f-adce-c35d63c2ac97",
   "metadata": {},
   "source": [
    "# Listo nuevamente los datos para verificar los Cambios"
   ]
  },
  {
   "cell_type": "code",
   "execution_count": 11,
   "id": "3e25b45f-6475-4a76-b9c7-11f03a82f8ef",
   "metadata": {},
   "outputs": [
    {
     "data": {
      "text/html": [
       "<div>\n",
       "<style scoped>\n",
       "    .dataframe tbody tr th:only-of-type {\n",
       "        vertical-align: middle;\n",
       "    }\n",
       "\n",
       "    .dataframe tbody tr th {\n",
       "        vertical-align: top;\n",
       "    }\n",
       "\n",
       "    .dataframe thead th {\n",
       "        text-align: right;\n",
       "    }\n",
       "</style>\n",
       "<table border=\"1\" class=\"dataframe\">\n",
       "  <thead>\n",
       "    <tr style=\"text-align: right;\">\n",
       "      <th></th>\n",
       "      <th>IdPasajero</th>\n",
       "      <th>Sobrevivió</th>\n",
       "      <th>Clase</th>\n",
       "      <th>Nombre</th>\n",
       "      <th>Sexo</th>\n",
       "      <th>Edad</th>\n",
       "      <th>Tarifa</th>\n",
       "      <th>Cabina</th>\n",
       "      <th>Embarcado</th>\n",
       "    </tr>\n",
       "  </thead>\n",
       "  <tbody>\n",
       "    <tr>\n",
       "      <th>0</th>\n",
       "      <td>1</td>\n",
       "      <td>0</td>\n",
       "      <td>3</td>\n",
       "      <td>Braund, Mr. Owen Harris</td>\n",
       "      <td>0</td>\n",
       "      <td>22.0</td>\n",
       "      <td>7.2500</td>\n",
       "      <td>NaN</td>\n",
       "      <td>S</td>\n",
       "    </tr>\n",
       "    <tr>\n",
       "      <th>1</th>\n",
       "      <td>2</td>\n",
       "      <td>1</td>\n",
       "      <td>1</td>\n",
       "      <td>Cumings, Mrs. John Bradley (Florence Briggs Th...</td>\n",
       "      <td>1</td>\n",
       "      <td>38.0</td>\n",
       "      <td>71.2833</td>\n",
       "      <td>C85</td>\n",
       "      <td>C</td>\n",
       "    </tr>\n",
       "    <tr>\n",
       "      <th>2</th>\n",
       "      <td>3</td>\n",
       "      <td>1</td>\n",
       "      <td>3</td>\n",
       "      <td>Heikkinen, Miss. Laina</td>\n",
       "      <td>1</td>\n",
       "      <td>26.0</td>\n",
       "      <td>7.9250</td>\n",
       "      <td>NaN</td>\n",
       "      <td>S</td>\n",
       "    </tr>\n",
       "    <tr>\n",
       "      <th>3</th>\n",
       "      <td>4</td>\n",
       "      <td>1</td>\n",
       "      <td>1</td>\n",
       "      <td>Futrelle, Mrs. Jacques Heath (Lily May Peel)</td>\n",
       "      <td>1</td>\n",
       "      <td>35.0</td>\n",
       "      <td>53.1000</td>\n",
       "      <td>C123</td>\n",
       "      <td>S</td>\n",
       "    </tr>\n",
       "    <tr>\n",
       "      <th>4</th>\n",
       "      <td>5</td>\n",
       "      <td>0</td>\n",
       "      <td>3</td>\n",
       "      <td>Allen, Mr. William Henry</td>\n",
       "      <td>0</td>\n",
       "      <td>35.0</td>\n",
       "      <td>8.0500</td>\n",
       "      <td>NaN</td>\n",
       "      <td>S</td>\n",
       "    </tr>\n",
       "    <tr>\n",
       "      <th>5</th>\n",
       "      <td>6</td>\n",
       "      <td>0</td>\n",
       "      <td>3</td>\n",
       "      <td>Moran, Mr. James</td>\n",
       "      <td>0</td>\n",
       "      <td>NaN</td>\n",
       "      <td>8.4583</td>\n",
       "      <td>NaN</td>\n",
       "      <td>Q</td>\n",
       "    </tr>\n",
       "    <tr>\n",
       "      <th>6</th>\n",
       "      <td>7</td>\n",
       "      <td>0</td>\n",
       "      <td>1</td>\n",
       "      <td>McCarthy, Mr. Timothy J</td>\n",
       "      <td>0</td>\n",
       "      <td>54.0</td>\n",
       "      <td>51.8625</td>\n",
       "      <td>E46</td>\n",
       "      <td>S</td>\n",
       "    </tr>\n",
       "    <tr>\n",
       "      <th>7</th>\n",
       "      <td>8</td>\n",
       "      <td>0</td>\n",
       "      <td>3</td>\n",
       "      <td>Palsson, Master. Gosta Leonard</td>\n",
       "      <td>0</td>\n",
       "      <td>2.0</td>\n",
       "      <td>21.0750</td>\n",
       "      <td>NaN</td>\n",
       "      <td>S</td>\n",
       "    </tr>\n",
       "    <tr>\n",
       "      <th>8</th>\n",
       "      <td>9</td>\n",
       "      <td>1</td>\n",
       "      <td>3</td>\n",
       "      <td>Johnson, Mrs. Oscar W (Elisabeth Vilhelmina Berg)</td>\n",
       "      <td>1</td>\n",
       "      <td>27.0</td>\n",
       "      <td>11.1333</td>\n",
       "      <td>NaN</td>\n",
       "      <td>S</td>\n",
       "    </tr>\n",
       "    <tr>\n",
       "      <th>9</th>\n",
       "      <td>10</td>\n",
       "      <td>1</td>\n",
       "      <td>2</td>\n",
       "      <td>Nasser, Mrs. Nicholas (Adele Achem)</td>\n",
       "      <td>1</td>\n",
       "      <td>14.0</td>\n",
       "      <td>30.0708</td>\n",
       "      <td>NaN</td>\n",
       "      <td>C</td>\n",
       "    </tr>\n",
       "  </tbody>\n",
       "</table>\n",
       "</div>"
      ],
      "text/plain": [
       "   IdPasajero  Sobrevivió  Clase  \\\n",
       "0           1           0      3   \n",
       "1           2           1      1   \n",
       "2           3           1      3   \n",
       "3           4           1      1   \n",
       "4           5           0      3   \n",
       "5           6           0      3   \n",
       "6           7           0      1   \n",
       "7           8           0      3   \n",
       "8           9           1      3   \n",
       "9          10           1      2   \n",
       "\n",
       "                                              Nombre  Sexo  Edad   Tarifa  \\\n",
       "0                            Braund, Mr. Owen Harris     0  22.0   7.2500   \n",
       "1  Cumings, Mrs. John Bradley (Florence Briggs Th...     1  38.0  71.2833   \n",
       "2                             Heikkinen, Miss. Laina     1  26.0   7.9250   \n",
       "3       Futrelle, Mrs. Jacques Heath (Lily May Peel)     1  35.0  53.1000   \n",
       "4                           Allen, Mr. William Henry     0  35.0   8.0500   \n",
       "5                                   Moran, Mr. James     0   NaN   8.4583   \n",
       "6                            McCarthy, Mr. Timothy J     0  54.0  51.8625   \n",
       "7                     Palsson, Master. Gosta Leonard     0   2.0  21.0750   \n",
       "8  Johnson, Mrs. Oscar W (Elisabeth Vilhelmina Berg)     1  27.0  11.1333   \n",
       "9                Nasser, Mrs. Nicholas (Adele Achem)     1  14.0  30.0708   \n",
       "\n",
       "  Cabina Embarcado  \n",
       "0    NaN         S  \n",
       "1    C85         C  \n",
       "2    NaN         S  \n",
       "3   C123         S  \n",
       "4    NaN         S  \n",
       "5    NaN         Q  \n",
       "6    E46         S  \n",
       "7    NaN         S  \n",
       "8    NaN         S  \n",
       "9    NaN         C  "
      ]
     },
     "execution_count": 11,
     "metadata": {},
     "output_type": "execute_result"
    }
   ],
   "source": [
    "Datos.head(10)"
   ]
  },
  {
   "cell_type": "markdown",
   "id": "c57068df-dda2-478f-972f-988c0e0b1b5b",
   "metadata": {},
   "source": [
    "# En este caso las columnas Tarifa, Cabina y Embarcado no son representativas por lo que las podemos borrar"
   ]
  },
  {
   "cell_type": "code",
   "execution_count": 63,
   "id": "ed68e456-9a0c-46ae-bda0-733e9af9c63d",
   "metadata": {},
   "outputs": [],
   "source": [
    "Datos = Datos.drop(columns=['Tarifa', 'Cabina', 'Embarcado'])"
   ]
  },
  {
   "cell_type": "code",
   "execution_count": 13,
   "id": "2b031bb8-93ab-41f1-bc07-cc437e06c095",
   "metadata": {},
   "outputs": [
    {
     "data": {
      "text/html": [
       "<div>\n",
       "<style scoped>\n",
       "    .dataframe tbody tr th:only-of-type {\n",
       "        vertical-align: middle;\n",
       "    }\n",
       "\n",
       "    .dataframe tbody tr th {\n",
       "        vertical-align: top;\n",
       "    }\n",
       "\n",
       "    .dataframe thead th {\n",
       "        text-align: right;\n",
       "    }\n",
       "</style>\n",
       "<table border=\"1\" class=\"dataframe\">\n",
       "  <thead>\n",
       "    <tr style=\"text-align: right;\">\n",
       "      <th></th>\n",
       "      <th>IdPasajero</th>\n",
       "      <th>Sobrevivió</th>\n",
       "      <th>Clase</th>\n",
       "      <th>Nombre</th>\n",
       "      <th>Sexo</th>\n",
       "      <th>Edad</th>\n",
       "    </tr>\n",
       "  </thead>\n",
       "  <tbody>\n",
       "    <tr>\n",
       "      <th>0</th>\n",
       "      <td>1</td>\n",
       "      <td>0</td>\n",
       "      <td>3</td>\n",
       "      <td>Braund, Mr. Owen Harris</td>\n",
       "      <td>0</td>\n",
       "      <td>22.0</td>\n",
       "    </tr>\n",
       "    <tr>\n",
       "      <th>1</th>\n",
       "      <td>2</td>\n",
       "      <td>1</td>\n",
       "      <td>1</td>\n",
       "      <td>Cumings, Mrs. John Bradley (Florence Briggs Th...</td>\n",
       "      <td>1</td>\n",
       "      <td>38.0</td>\n",
       "    </tr>\n",
       "    <tr>\n",
       "      <th>2</th>\n",
       "      <td>3</td>\n",
       "      <td>1</td>\n",
       "      <td>3</td>\n",
       "      <td>Heikkinen, Miss. Laina</td>\n",
       "      <td>1</td>\n",
       "      <td>26.0</td>\n",
       "    </tr>\n",
       "    <tr>\n",
       "      <th>3</th>\n",
       "      <td>4</td>\n",
       "      <td>1</td>\n",
       "      <td>1</td>\n",
       "      <td>Futrelle, Mrs. Jacques Heath (Lily May Peel)</td>\n",
       "      <td>1</td>\n",
       "      <td>35.0</td>\n",
       "    </tr>\n",
       "    <tr>\n",
       "      <th>4</th>\n",
       "      <td>5</td>\n",
       "      <td>0</td>\n",
       "      <td>3</td>\n",
       "      <td>Allen, Mr. William Henry</td>\n",
       "      <td>0</td>\n",
       "      <td>35.0</td>\n",
       "    </tr>\n",
       "    <tr>\n",
       "      <th>5</th>\n",
       "      <td>6</td>\n",
       "      <td>0</td>\n",
       "      <td>3</td>\n",
       "      <td>Moran, Mr. James</td>\n",
       "      <td>0</td>\n",
       "      <td>NaN</td>\n",
       "    </tr>\n",
       "    <tr>\n",
       "      <th>6</th>\n",
       "      <td>7</td>\n",
       "      <td>0</td>\n",
       "      <td>1</td>\n",
       "      <td>McCarthy, Mr. Timothy J</td>\n",
       "      <td>0</td>\n",
       "      <td>54.0</td>\n",
       "    </tr>\n",
       "    <tr>\n",
       "      <th>7</th>\n",
       "      <td>8</td>\n",
       "      <td>0</td>\n",
       "      <td>3</td>\n",
       "      <td>Palsson, Master. Gosta Leonard</td>\n",
       "      <td>0</td>\n",
       "      <td>2.0</td>\n",
       "    </tr>\n",
       "    <tr>\n",
       "      <th>8</th>\n",
       "      <td>9</td>\n",
       "      <td>1</td>\n",
       "      <td>3</td>\n",
       "      <td>Johnson, Mrs. Oscar W (Elisabeth Vilhelmina Berg)</td>\n",
       "      <td>1</td>\n",
       "      <td>27.0</td>\n",
       "    </tr>\n",
       "    <tr>\n",
       "      <th>9</th>\n",
       "      <td>10</td>\n",
       "      <td>1</td>\n",
       "      <td>2</td>\n",
       "      <td>Nasser, Mrs. Nicholas (Adele Achem)</td>\n",
       "      <td>1</td>\n",
       "      <td>14.0</td>\n",
       "    </tr>\n",
       "  </tbody>\n",
       "</table>\n",
       "</div>"
      ],
      "text/plain": [
       "   IdPasajero  Sobrevivió  Clase  \\\n",
       "0           1           0      3   \n",
       "1           2           1      1   \n",
       "2           3           1      3   \n",
       "3           4           1      1   \n",
       "4           5           0      3   \n",
       "5           6           0      3   \n",
       "6           7           0      1   \n",
       "7           8           0      3   \n",
       "8           9           1      3   \n",
       "9          10           1      2   \n",
       "\n",
       "                                              Nombre  Sexo  Edad  \n",
       "0                            Braund, Mr. Owen Harris     0  22.0  \n",
       "1  Cumings, Mrs. John Bradley (Florence Briggs Th...     1  38.0  \n",
       "2                             Heikkinen, Miss. Laina     1  26.0  \n",
       "3       Futrelle, Mrs. Jacques Heath (Lily May Peel)     1  35.0  \n",
       "4                           Allen, Mr. William Henry     0  35.0  \n",
       "5                                   Moran, Mr. James     0   NaN  \n",
       "6                            McCarthy, Mr. Timothy J     0  54.0  \n",
       "7                     Palsson, Master. Gosta Leonard     0   2.0  \n",
       "8  Johnson, Mrs. Oscar W (Elisabeth Vilhelmina Berg)     1  27.0  \n",
       "9                Nasser, Mrs. Nicholas (Adele Achem)     1  14.0  "
      ]
     },
     "execution_count": 13,
     "metadata": {},
     "output_type": "execute_result"
    }
   ],
   "source": [
    "Datos.head(10)"
   ]
  },
  {
   "cell_type": "markdown",
   "id": "b7c24535-3c70-4e77-81f5-ef1e18a74bea",
   "metadata": {},
   "source": [
    "**En esta parte tengo unas variables que pueden ser candidatas para la regresion lineal, sin embargo la edad tiene valores no nulos por lo que procedo a listar el contenido** "
   ]
  },
  {
   "cell_type": "code",
   "execution_count": 65,
   "id": "4135d618-e581-428c-a48f-2e099b8319ad",
   "metadata": {},
   "outputs": [
    {
     "name": "stdout",
     "output_type": "stream",
     "text": [
      "Valores faltantes en la columna 'Edad': 177\n"
     ]
    }
   ],
   "source": [
    "valores_faltantes_edad = Datos['Edad'].isnull().sum()\n",
    "print(\"Valores faltantes en la columna 'Edad':\", valores_faltantes_edad)"
   ]
  },
  {
   "cell_type": "markdown",
   "id": "511d818f-b49e-465e-a371-af01a7f7dd0b",
   "metadata": {},
   "source": [
    "**Como se tiene una base de datos con tantos faltantes, es mejor reemplazarlos por un valor como la moda, media o mediana, para esto calculo primero esa informacion**"
   ]
  },
  {
   "cell_type": "code",
   "execution_count": 15,
   "id": "2ed04119-85aa-46a1-a193-bd8f5443cd75",
   "metadata": {},
   "outputs": [
    {
     "name": "stdout",
     "output_type": "stream",
     "text": [
      "Moda de la edad: 0    24.0\n",
      "Name: Edad, dtype: float64\n",
      "Media de la edad: 29.69911764705882\n",
      "Mediana de la edad: 28.0\n"
     ]
    }
   ],
   "source": [
    "moda_edad = Datos['Edad'].mode()\n",
    "media_edad = Datos['Edad'].mean()\n",
    "mediana_edad = Datos['Edad'].median()\n",
    "\n",
    "print(\"Moda de la edad:\", moda_edad)\n",
    "print(\"Media de la edad:\", media_edad)\n",
    "print(\"Mediana de la edad:\", mediana_edad)"
   ]
  },
  {
   "cell_type": "markdown",
   "id": "2dc09000-2be3-4e52-8c3e-bbd54d88836e",
   "metadata": {},
   "source": [
    "**Como se tiene una moda, media y mediana relativamente cercanas podemos reemplazar los valores faltantes con la media de la edad**"
   ]
  },
  {
   "cell_type": "code",
   "execution_count": 66,
   "id": "32b67b38-8f15-4bf2-83e6-9d0db5388d3e",
   "metadata": {},
   "outputs": [],
   "source": [
    "# Calcular la media de la edad\n",
    "media_edad = Datos['Edad'].mean()\n",
    "\n",
    "# Reemplazar los valores faltantes en la columna 'Edad' con la media\n",
    "Datos['Edad'] = Datos['Edad'].fillna(media_edad)"
   ]
  },
  {
   "cell_type": "markdown",
   "id": "25d607a9-40c3-49ea-9ff2-7f2c70ee848a",
   "metadata": {},
   "source": [
    "**Validamos que se no se tengan faltantes en la columna edad**"
   ]
  },
  {
   "cell_type": "code",
   "execution_count": 67,
   "id": "4ab351bd-24b3-48b3-8066-2405a7e0abff",
   "metadata": {},
   "outputs": [
    {
     "name": "stdout",
     "output_type": "stream",
     "text": [
      "Valores faltantes en la columna 'Edad': 0\n"
     ]
    }
   ],
   "source": [
    "valores_faltantes_edad = Datos['Edad'].isnull().sum()\n",
    "print(\"Valores faltantes en la columna 'Edad':\", valores_faltantes_edad)"
   ]
  },
  {
   "cell_type": "markdown",
   "id": "09a113f0-c71b-4547-a2bd-cfbca6d4c429",
   "metadata": {},
   "source": [
    "# los datos quedaron ajustados, se pude borrar el nombre y el ID tambien pues estos son mas informativos"
   ]
  },
  {
   "cell_type": "code",
   "execution_count": 68,
   "id": "fab54921-bc6e-4a90-803f-235ae89d4275",
   "metadata": {},
   "outputs": [],
   "source": [
    "Datos = Datos.drop(columns=['IdPasajero', 'Nombre'])"
   ]
  },
  {
   "cell_type": "code",
   "execution_count": 69,
   "id": "511039bf-e0cb-4e76-9857-659813707b86",
   "metadata": {},
   "outputs": [
    {
     "data": {
      "text/html": [
       "<div>\n",
       "<style scoped>\n",
       "    .dataframe tbody tr th:only-of-type {\n",
       "        vertical-align: middle;\n",
       "    }\n",
       "\n",
       "    .dataframe tbody tr th {\n",
       "        vertical-align: top;\n",
       "    }\n",
       "\n",
       "    .dataframe thead th {\n",
       "        text-align: right;\n",
       "    }\n",
       "</style>\n",
       "<table border=\"1\" class=\"dataframe\">\n",
       "  <thead>\n",
       "    <tr style=\"text-align: right;\">\n",
       "      <th></th>\n",
       "      <th>Sobrevivió</th>\n",
       "      <th>Clase</th>\n",
       "      <th>Sexo</th>\n",
       "      <th>Edad</th>\n",
       "    </tr>\n",
       "  </thead>\n",
       "  <tbody>\n",
       "    <tr>\n",
       "      <th>0</th>\n",
       "      <td>0</td>\n",
       "      <td>3</td>\n",
       "      <td>0</td>\n",
       "      <td>22.000000</td>\n",
       "    </tr>\n",
       "    <tr>\n",
       "      <th>1</th>\n",
       "      <td>1</td>\n",
       "      <td>1</td>\n",
       "      <td>1</td>\n",
       "      <td>38.000000</td>\n",
       "    </tr>\n",
       "    <tr>\n",
       "      <th>2</th>\n",
       "      <td>1</td>\n",
       "      <td>3</td>\n",
       "      <td>1</td>\n",
       "      <td>26.000000</td>\n",
       "    </tr>\n",
       "    <tr>\n",
       "      <th>3</th>\n",
       "      <td>1</td>\n",
       "      <td>1</td>\n",
       "      <td>1</td>\n",
       "      <td>35.000000</td>\n",
       "    </tr>\n",
       "    <tr>\n",
       "      <th>4</th>\n",
       "      <td>0</td>\n",
       "      <td>3</td>\n",
       "      <td>0</td>\n",
       "      <td>35.000000</td>\n",
       "    </tr>\n",
       "    <tr>\n",
       "      <th>5</th>\n",
       "      <td>0</td>\n",
       "      <td>3</td>\n",
       "      <td>0</td>\n",
       "      <td>29.699118</td>\n",
       "    </tr>\n",
       "    <tr>\n",
       "      <th>6</th>\n",
       "      <td>0</td>\n",
       "      <td>1</td>\n",
       "      <td>0</td>\n",
       "      <td>54.000000</td>\n",
       "    </tr>\n",
       "    <tr>\n",
       "      <th>7</th>\n",
       "      <td>0</td>\n",
       "      <td>3</td>\n",
       "      <td>0</td>\n",
       "      <td>2.000000</td>\n",
       "    </tr>\n",
       "    <tr>\n",
       "      <th>8</th>\n",
       "      <td>1</td>\n",
       "      <td>3</td>\n",
       "      <td>1</td>\n",
       "      <td>27.000000</td>\n",
       "    </tr>\n",
       "    <tr>\n",
       "      <th>9</th>\n",
       "      <td>1</td>\n",
       "      <td>2</td>\n",
       "      <td>1</td>\n",
       "      <td>14.000000</td>\n",
       "    </tr>\n",
       "  </tbody>\n",
       "</table>\n",
       "</div>"
      ],
      "text/plain": [
       "   Sobrevivió  Clase  Sexo       Edad\n",
       "0           0      3     0  22.000000\n",
       "1           1      1     1  38.000000\n",
       "2           1      3     1  26.000000\n",
       "3           1      1     1  35.000000\n",
       "4           0      3     0  35.000000\n",
       "5           0      3     0  29.699118\n",
       "6           0      1     0  54.000000\n",
       "7           0      3     0   2.000000\n",
       "8           1      3     1  27.000000\n",
       "9           1      2     1  14.000000"
      ]
     },
     "execution_count": 69,
     "metadata": {},
     "output_type": "execute_result"
    }
   ],
   "source": [
    "Datos.head(10)"
   ]
  },
  {
   "cell_type": "markdown",
   "id": "0b32c71e-7571-4e79-a5b3-297845308960",
   "metadata": {},
   "source": [
    "**Genero Graficas**"
   ]
  },
  {
   "cell_type": "code",
   "execution_count": 70,
   "id": "c3652753-e181-41fa-8e92-0fea6a227887",
   "metadata": {},
   "outputs": [
    {
     "data": {
      "image/png": "[encoded data removed]",
      "text/plain": [
       "<Figure size 800x800 with 4 Axes>"
      ]
     },
     "metadata": {},
     "output_type": "display_data"
    }
   ],
   "source": [
    "fig, axs = plt.subplots(2,2, figsize = (8,8))\n",
    "titulos = ['Sobrevivió', 'Clase', 'Sexo', 'Edad']\n",
    "sns.boxplot(x=Datos['Sobrevivió'], ax=axs[0, 0]).set(title=titulos[0])\n",
    "sns.boxplot(x=Datos['Clase'], ax=axs[0, 1]).set(title=titulos[1])\n",
    "sns.boxplot(x=Datos['Sexo'], ax=axs[1, 0]).set(title=titulos[2])\n",
    "sns.boxplot(x=Datos['Edad'], ax=axs[1, 1]).set(title=titulos[3])\n",
    "\n",
    "plt.tight_layout()\n",
    "plt.show()"
   ]
  },
  {
   "cell_type": "markdown",
   "id": "4254b4d3-890a-48df-a560-664c0868745e",
   "metadata": {},
   "source": [
    "## Analisis de Graficas\n",
    "En esta primera etapa se observa que para las variables sexo, sobrevivio, la clase y la edad, los valores son validos, pues en sobrevivio solo tienen 2 opciones 0 y 1,en este contexto de los datos del Titanic, el valor '0' en la columna significa que el pasajero no sobrevivió al naufragio, mientras que un valor 1 indica que el pasajero sí sobrevivió.\n",
    "lo mismo sucede con el sexo y la clase pues para nuestro caso la clase es la categoria a la que pertenecia el pasajero la cual estaba entre 1-3 y el sexo quedo establecido como 0 hombre y 1 mujer\n",
    "Finalmente en la edad, se observa algo interesante y es que Esta presenta diversos valores, los cuales oscilan entre 0 y 80 años, siendo la media 29 años"
   ]
  },
  {
   "cell_type": "markdown",
   "id": "e2916b9e-3534-4663-8fd8-3b34d4a1f3c5",
   "metadata": {},
   "source": [
    "# Como no se tienen valores Atipicos no se procede a realizar ninguna otra depuracion"
   ]
  },
  {
   "cell_type": "code",
   "execution_count": 21,
   "id": "b05945d5-8e20-479c-ad1a-a43c0e3a6d56",
   "metadata": {},
   "outputs": [
    {
     "data": {
      "text/html": [
       "<div>\n",
       "<style scoped>\n",
       "    .dataframe tbody tr th:only-of-type {\n",
       "        vertical-align: middle;\n",
       "    }\n",
       "\n",
       "    .dataframe tbody tr th {\n",
       "        vertical-align: top;\n",
       "    }\n",
       "\n",
       "    .dataframe thead th {\n",
       "        text-align: right;\n",
       "    }\n",
       "</style>\n",
       "<table border=\"1\" class=\"dataframe\">\n",
       "  <thead>\n",
       "    <tr style=\"text-align: right;\">\n",
       "      <th></th>\n",
       "      <th>Sobrevivió</th>\n",
       "      <th>Clase</th>\n",
       "      <th>Sexo</th>\n",
       "      <th>Edad</th>\n",
       "    </tr>\n",
       "  </thead>\n",
       "  <tbody>\n",
       "    <tr>\n",
       "      <th>0</th>\n",
       "      <td>0</td>\n",
       "      <td>3</td>\n",
       "      <td>0</td>\n",
       "      <td>22.000000</td>\n",
       "    </tr>\n",
       "    <tr>\n",
       "      <th>1</th>\n",
       "      <td>1</td>\n",
       "      <td>1</td>\n",
       "      <td>1</td>\n",
       "      <td>38.000000</td>\n",
       "    </tr>\n",
       "    <tr>\n",
       "      <th>2</th>\n",
       "      <td>1</td>\n",
       "      <td>3</td>\n",
       "      <td>1</td>\n",
       "      <td>26.000000</td>\n",
       "    </tr>\n",
       "    <tr>\n",
       "      <th>3</th>\n",
       "      <td>1</td>\n",
       "      <td>1</td>\n",
       "      <td>1</td>\n",
       "      <td>35.000000</td>\n",
       "    </tr>\n",
       "    <tr>\n",
       "      <th>4</th>\n",
       "      <td>0</td>\n",
       "      <td>3</td>\n",
       "      <td>0</td>\n",
       "      <td>35.000000</td>\n",
       "    </tr>\n",
       "    <tr>\n",
       "      <th>5</th>\n",
       "      <td>0</td>\n",
       "      <td>3</td>\n",
       "      <td>0</td>\n",
       "      <td>29.699118</td>\n",
       "    </tr>\n",
       "    <tr>\n",
       "      <th>6</th>\n",
       "      <td>0</td>\n",
       "      <td>1</td>\n",
       "      <td>0</td>\n",
       "      <td>54.000000</td>\n",
       "    </tr>\n",
       "    <tr>\n",
       "      <th>7</th>\n",
       "      <td>0</td>\n",
       "      <td>3</td>\n",
       "      <td>0</td>\n",
       "      <td>2.000000</td>\n",
       "    </tr>\n",
       "    <tr>\n",
       "      <th>8</th>\n",
       "      <td>1</td>\n",
       "      <td>3</td>\n",
       "      <td>1</td>\n",
       "      <td>27.000000</td>\n",
       "    </tr>\n",
       "    <tr>\n",
       "      <th>9</th>\n",
       "      <td>1</td>\n",
       "      <td>2</td>\n",
       "      <td>1</td>\n",
       "      <td>14.000000</td>\n",
       "    </tr>\n",
       "    <tr>\n",
       "      <th>10</th>\n",
       "      <td>1</td>\n",
       "      <td>3</td>\n",
       "      <td>1</td>\n",
       "      <td>4.000000</td>\n",
       "    </tr>\n",
       "    <tr>\n",
       "      <th>11</th>\n",
       "      <td>1</td>\n",
       "      <td>1</td>\n",
       "      <td>1</td>\n",
       "      <td>58.000000</td>\n",
       "    </tr>\n",
       "    <tr>\n",
       "      <th>12</th>\n",
       "      <td>0</td>\n",
       "      <td>3</td>\n",
       "      <td>0</td>\n",
       "      <td>20.000000</td>\n",
       "    </tr>\n",
       "    <tr>\n",
       "      <th>13</th>\n",
       "      <td>0</td>\n",
       "      <td>3</td>\n",
       "      <td>0</td>\n",
       "      <td>39.000000</td>\n",
       "    </tr>\n",
       "    <tr>\n",
       "      <th>14</th>\n",
       "      <td>0</td>\n",
       "      <td>3</td>\n",
       "      <td>1</td>\n",
       "      <td>14.000000</td>\n",
       "    </tr>\n",
       "    <tr>\n",
       "      <th>15</th>\n",
       "      <td>1</td>\n",
       "      <td>2</td>\n",
       "      <td>1</td>\n",
       "      <td>55.000000</td>\n",
       "    </tr>\n",
       "    <tr>\n",
       "      <th>16</th>\n",
       "      <td>0</td>\n",
       "      <td>3</td>\n",
       "      <td>0</td>\n",
       "      <td>2.000000</td>\n",
       "    </tr>\n",
       "    <tr>\n",
       "      <th>17</th>\n",
       "      <td>1</td>\n",
       "      <td>2</td>\n",
       "      <td>0</td>\n",
       "      <td>29.699118</td>\n",
       "    </tr>\n",
       "    <tr>\n",
       "      <th>18</th>\n",
       "      <td>0</td>\n",
       "      <td>3</td>\n",
       "      <td>1</td>\n",
       "      <td>31.000000</td>\n",
       "    </tr>\n",
       "    <tr>\n",
       "      <th>19</th>\n",
       "      <td>1</td>\n",
       "      <td>3</td>\n",
       "      <td>1</td>\n",
       "      <td>29.699118</td>\n",
       "    </tr>\n",
       "  </tbody>\n",
       "</table>\n",
       "</div>"
      ],
      "text/plain": [
       "    Sobrevivió  Clase  Sexo       Edad\n",
       "0            0      3     0  22.000000\n",
       "1            1      1     1  38.000000\n",
       "2            1      3     1  26.000000\n",
       "3            1      1     1  35.000000\n",
       "4            0      3     0  35.000000\n",
       "5            0      3     0  29.699118\n",
       "6            0      1     0  54.000000\n",
       "7            0      3     0   2.000000\n",
       "8            1      3     1  27.000000\n",
       "9            1      2     1  14.000000\n",
       "10           1      3     1   4.000000\n",
       "11           1      1     1  58.000000\n",
       "12           0      3     0  20.000000\n",
       "13           0      3     0  39.000000\n",
       "14           0      3     1  14.000000\n",
       "15           1      2     1  55.000000\n",
       "16           0      3     0   2.000000\n",
       "17           1      2     0  29.699118\n",
       "18           0      3     1  31.000000\n",
       "19           1      3     1  29.699118"
      ]
     },
     "execution_count": 21,
     "metadata": {},
     "output_type": "execute_result"
    }
   ],
   "source": [
    "Datos.head(20)"
   ]
  },
  {
   "cell_type": "code",
   "execution_count": 71,
   "id": "d3aaa766-c9c7-45de-9f8f-4006d1fe5977",
   "metadata": {},
   "outputs": [
    {
     "name": "stdout",
     "output_type": "stream",
     "text": [
      "Sobrevivió      int64\n",
      "Clase           int64\n",
      "Sexo            int64\n",
      "Edad          float64\n",
      "dtype: object\n"
     ]
    }
   ],
   "source": [
    "print(Datos.dtypes)"
   ]
  },
  {
   "cell_type": "markdown",
   "id": "c06c55b7-fa36-48cf-9043-25a4c241f580",
   "metadata": {},
   "source": [
    "# Genero Graficos"
   ]
  },
  {
   "cell_type": "markdown",
   "id": "8b428299-f572-4f6d-9f1b-ba6316e17928",
   "metadata": {},
   "source": [
    " # <Center> Diagramas de barras </center>"
   ]
  },
  {
   "cell_type": "code",
   "execution_count": 23,
   "id": "317723b1-7d6f-4051-b76c-937dfecce229",
   "metadata": {},
   "outputs": [
    {
     "data": {
      "image/png": "[encoded data removed]",
      "text/plain": [
       "<Figure size 600x400 with 1 Axes>"
      ]
     },
     "metadata": {},
     "output_type": "display_data"
    },
    {
     "data": {
      "image/png": "[encoded data removed]",
      "text/plain": [
       "<Figure size 600x400 with 1 Axes>"
      ]
     },
     "metadata": {},
     "output_type": "display_data"
    },
    {
     "data": {
      "image/png": "[encoded data removed]",
      "text/plain": [
       "<Figure size 600x400 with 1 Axes>"
      ]
     },
     "metadata": {},
     "output_type": "display_data"
    }
   ],
   "source": [
    "plt.figure(figsize=(6, 4))\n",
    "sns.countplot(x='Sexo', data=Datos)\n",
    "plt.title('Distribución de género')\n",
    "plt.xlabel('Sexo')\n",
    "plt.ylabel('Frecuencia')\n",
    "plt.show()\n",
    "plt.figure(figsize=(6, 4))\n",
    "sns.countplot(x='Clase', data=Datos)\n",
    "plt.title('Distribución de Clase')\n",
    "plt.xlabel('Clase')\n",
    "plt.ylabel('Frecuencia')\n",
    "plt.show()\n",
    "plt.figure(figsize=(6, 4))\n",
    "sns.countplot(x='Sobrevivió', data=Datos)\n",
    "plt.title('Distribución de estado')\n",
    "plt.xlabel('Sobrevivió')\n",
    "plt.ylabel('Frecuencia')\n",
    "plt.show()"
   ]
  },
  {
   "cell_type": "markdown",
   "id": "8ddcd7de-305e-4d9d-b842-5237d89517dd",
   "metadata": {},
   "source": [
    "# Analisis \n",
    "**Aqui observamos claramente que la mayoria de las personas de la muestra no sobrevivieron, la mayoria de las personas de la muestra pertenecian a estrato 3 y la mayoria de las personas de la muestra eran hombres**"
   ]
  },
  {
   "cell_type": "markdown",
   "id": "c7e63c7c-e5e8-4204-80b3-ac924d4dc888",
   "metadata": {},
   "source": [
    "**Diagramas de dispersion**"
   ]
  },
  {
   "cell_type": "code",
   "execution_count": 24,
   "id": "de4a4739-e335-432d-a0d9-6ff6085bd6a0",
   "metadata": {},
   "outputs": [
    {
     "data": {
      "image/png": "[encoded data removed]",
      "text/plain": [
       "<Figure size 800x600 with 1 Axes>"
      ]
     },
     "metadata": {},
     "output_type": "display_data"
    },
    {
     "data": {
      "image/png": "[encoded data removed]",
      "text/plain": [
       "<Figure size 800x600 with 1 Axes>"
      ]
     },
     "metadata": {},
     "output_type": "display_data"
    }
   ],
   "source": [
    "plt.figure(figsize=(8, 6))\n",
    "sns.scatterplot(x='Edad', y='Sobrevivió', data=Datos)\n",
    "plt.title('Diagrama de Dispersión: Edad vs. Sobrevivió')\n",
    "plt.xlabel('Edad')\n",
    "plt.ylabel('Sobrevivió')\n",
    "plt.show()\n",
    "plt.figure(figsize=(8, 6))\n",
    "sns.scatterplot(x='Sexo', y='Sobrevivió', data=Datos)\n",
    "plt.title('Diagrama de Dispersión: Sexo vs. Sobrevivió')\n",
    "plt.xlabel('Sexo')\n",
    "plt.ylabel('Sobrevivió')\n",
    "plt.show()\n"
   ]
  },
  {
   "cell_type": "code",
   "execution_count": 72,
   "id": "d8efe99b-86ad-4efb-8dab-feef3cc471ea",
   "metadata": {},
   "outputs": [
    {
     "data": {
      "image/png": "[encoded data removed]",
      "text/plain": [
       "<Figure size 2000x1200 with 3 Axes>"
      ]
     },
     "metadata": {},
     "output_type": "display_data"
    }
   ],
   "source": [
    "plt.figure(figsize=(20, 12))\n",
    "plt.subplot(2,3,1)\n",
    "sns.boxplot(x = 'Edad', y = 'Sobrevivió', data = Datos)\n",
    "plt.subplot(2,3,2)\n",
    "sns.boxplot(x = 'Clase', y = 'Sobrevivió', data = Datos)\n",
    "plt.subplot(2,3,3)\n",
    "sns.boxplot(x = 'Sexo', y = 'Sobrevivió', data = Datos)\n",
    "plt.show()\n"
   ]
  },
  {
   "cell_type": "markdown",
   "id": "e31b7032-1f00-41d2-bc28-a8931f1e8e2f",
   "metadata": {},
   "source": [
    "<h1><span style=\"color:red\">analisis</span>"
   ]
  },
  {
   "cell_type": "markdown",
   "id": "9b7bf1ad-a3a0-4166-b5b9-563bbd5d73c1",
   "metadata": {},
   "source": [
    "En este caso en las graficas se observan diferentes clases sociales, las cuales van de 1 a 3 al interior del barco, el sexo se identficica con el numero 0 para hombre 1 para mujer, y finalmente en el estado de la persona si sobrevivio o no con 0 se dice que no y con 1 que sia."
   ]
  },
  {
   "cell_type": "code",
   "execution_count": 73,
   "id": "5164c61b-3b9e-4e96-80c2-280118f67304",
   "metadata": {},
   "outputs": [
    {
     "name": "stderr",
     "output_type": "stream",
     "text": [
      "C:\\ProgramData\\anaconda3\\Lib\\site-packages\\seaborn\\_oldcore.py:1119: FutureWarning: use_inf_as_na option is deprecated and will be removed in a future version. Convert inf values to NaN before operating instead.\n",
      "  with pd.option_context('mode.use_inf_as_na', True):\n",
      "C:\\ProgramData\\anaconda3\\Lib\\site-packages\\seaborn\\_oldcore.py:1119: FutureWarning: use_inf_as_na option is deprecated and will be removed in a future version. Convert inf values to NaN before operating instead.\n",
      "  with pd.option_context('mode.use_inf_as_na', True):\n",
      "C:\\ProgramData\\anaconda3\\Lib\\site-packages\\seaborn\\_oldcore.py:1119: FutureWarning: use_inf_as_na option is deprecated and will be removed in a future version. Convert inf values to NaN before operating instead.\n",
      "  with pd.option_context('mode.use_inf_as_na', True):\n",
      "C:\\ProgramData\\anaconda3\\Lib\\site-packages\\seaborn\\_oldcore.py:1119: FutureWarning: use_inf_as_na option is deprecated and will be removed in a future version. Convert inf values to NaN before operating instead.\n",
      "  with pd.option_context('mode.use_inf_as_na', True):\n"
     ]
    },
    {
     "data": {
      "image/png": "[encoded data removed]",
      "text/plain": [
       "<Figure size 1000x1000 with 20 Axes>"
      ]
     },
     "metadata": {},
     "output_type": "display_data"
    }
   ],
   "source": [
    "import seaborn as sns\n",
    "import matplotlib.pyplot as plt\n",
    "sns.pairplot(Datos)\n",
    "plt.show()"
   ]
  },
  {
   "cell_type": "markdown",
   "id": "1311447a-db96-4af8-863f-12fecdad2ee5",
   "metadata": {},
   "source": [
    "# Seleccion de caracteristicas mas relevantes del Modelo"
   ]
  },
  {
   "cell_type": "markdown",
   "id": "b8e1536b-59b6-420f-a937-d7812fb950da",
   "metadata": {},
   "source": [
    "<font color='red'> En este Modelo Propuesto la caracteristica de interes es si la persona sobrevivio o no al naufragio</font> <br>\r",
    "**Sobrevivió <br>0= NO SOBREVIVIO <br> 1= SOBREVIVIO**\n"
   ]
  },
  {
   "cell_type": "code",
   "execution_count": 75,
   "id": "d2a5ba22-3363-4b92-995e-aba4a30722b5",
   "metadata": {},
   "outputs": [
    {
     "data": {
      "text/plain": [
       "Clase\n",
       "3    491\n",
       "1    216\n",
       "2    184\n",
       "Name: count, dtype: int64"
      ]
     },
     "execution_count": 75,
     "metadata": {},
     "output_type": "execute_result"
    }
   ],
   "source": [
    "Datos['Clase'].value_counts()"
   ]
  },
  {
   "cell_type": "code",
   "execution_count": 28,
   "id": "a610b43e-bc7f-41a2-93d8-3e43d9a8d1b7",
   "metadata": {},
   "outputs": [
    {
     "data": {
      "text/plain": [
       "Sobrevivió\n",
       "0    549\n",
       "1    342\n",
       "Name: count, dtype: int64"
      ]
     },
     "execution_count": 28,
     "metadata": {},
     "output_type": "execute_result"
    }
   ],
   "source": [
    "Datos['Sobrevivió'].value_counts()"
   ]
  },
  {
   "cell_type": "code",
   "execution_count": 29,
   "id": "27c49290-39ec-4bc1-bae0-20925194bcdf",
   "metadata": {},
   "outputs": [
    {
     "data": {
      "text/plain": [
       "Sexo\n",
       "0    577\n",
       "1    314\n",
       "Name: count, dtype: int64"
      ]
     },
     "execution_count": 29,
     "metadata": {},
     "output_type": "execute_result"
    }
   ],
   "source": [
    "Datos['Sexo'].value_counts()"
   ]
  },
  {
   "cell_type": "code",
   "execution_count": 76,
   "id": "1b45ec22-1d99-4dd6-b865-aab89b0aa18c",
   "metadata": {},
   "outputs": [
    {
     "data": {
      "text/plain": [
       "Edad\n",
       "29.699118    177\n",
       "24.000000     30\n",
       "22.000000     27\n",
       "18.000000     26\n",
       "28.000000     25\n",
       "            ... \n",
       "36.500000      1\n",
       "55.500000      1\n",
       "0.920000       1\n",
       "23.500000      1\n",
       "74.000000      1\n",
       "Name: count, Length: 89, dtype: int64"
      ]
     },
     "execution_count": 76,
     "metadata": {},
     "output_type": "execute_result"
    }
   ],
   "source": [
    "Datos['Edad'].value_counts()"
   ]
  },
  {
   "cell_type": "markdown",
   "id": "8bfc6486-0c7a-4abb-afe9-9a47d1cbe698",
   "metadata": {},
   "source": [
    "# Divido los datos En Train & TesT para evaluar el Modelo**"
   ]
  },
  {
   "cell_type": "code",
   "execution_count": 77,
   "id": "af946529-79bb-4a8c-a1bb-05ffeb756a7d",
   "metadata": {},
   "outputs": [],
   "source": [
    "#se Utiliza el 75% para train y 25% para prueba\n",
    "x=Datos.drop('Sobrevivió',axis=1)\n",
    "y=Datos['Sobrevivió']\n",
    "x_train, x_test,y_train, y_test = train_test_split(x,y,test_size=0.25,stratify=y, random_state=0)"
   ]
  },
  {
   "cell_type": "code",
   "execution_count": 78,
   "id": "23452976-d9ab-4dba-94c9-4b37e40052b6",
   "metadata": {},
   "outputs": [
    {
     "name": "stdout",
     "output_type": "stream",
     "text": [
      "     Clase  Sexo       Edad\n",
      "671      1     0  31.000000\n",
      "417      2     1  18.000000\n",
      "634      3     1   9.000000\n",
      "323      2     1  22.000000\n",
      "379      3     0  19.000000\n",
      "..     ...   ...        ...\n",
      "131      3     0  20.000000\n",
      "490      3     0  29.699118\n",
      "528      3     0  39.000000\n",
      "48       3     0  29.699118\n",
      "80       3     0  22.000000\n",
      "\n",
      "[668 rows x 3 columns]\n"
     ]
    }
   ],
   "source": [
    "print(x_train)"
   ]
  },
  {
   "cell_type": "code",
   "execution_count": 79,
   "id": "3b9b8fb3-3a1a-493e-9448-9fbb17ac1472",
   "metadata": {},
   "outputs": [
    {
     "name": "stdout",
     "output_type": "stream",
     "text": [
      "671    0\n",
      "417    1\n",
      "634    0\n",
      "323    1\n",
      "379    0\n",
      "      ..\n",
      "131    0\n",
      "490    0\n",
      "528    0\n",
      "48     0\n",
      "80     0\n",
      "Name: Sobrevivió, Length: 668, dtype: int64\n"
     ]
    }
   ],
   "source": [
    "print(y_train)"
   ]
  },
  {
   "cell_type": "markdown",
   "id": "39e8dbf4-b8e8-4bae-97c7-b087077f9135",
   "metadata": {},
   "source": [
    "**<H1>**Entrenar el modelo configurando parametros**</h1>"
   ]
  },
  {
   "cell_type": "code",
   "execution_count": 80,
   "id": "ea52660a-59d5-49c6-bb93-addf8efb7242",
   "metadata": {
    "scrolled": true
   },
   "outputs": [],
   "source": [
    "#basicamente se exporta una libreria\n",
    "modelo_regresion= LogisticRegression(solver=\"liblinear\")\n",
    "#modelo_regresion= LinearRegression(solver=\"liblinear\")\n",
    "modelo_regresion.fit(x_train, y_train)\n",
    "Prediccion= modelo_regresion.predict(x_test)"
   ]
  },
  {
   "cell_type": "code",
   "execution_count": 81,
   "id": "ceb64020-b9df-44ad-a2b1-d4f759a4b1da",
   "metadata": {},
   "outputs": [
    {
     "name": "stdout",
     "output_type": "stream",
     "text": [
      "288    1\n",
      "869    1\n",
      "182    0\n",
      "684    0\n",
      "599    1\n",
      "      ..\n",
      "882    0\n",
      "434    0\n",
      "304    0\n",
      "500    0\n",
      "633    0\n",
      "Name: Sobrevivió, Length: 223, dtype: int64\n"
     ]
    }
   ],
   "source": [
    "print(y_test)"
   ]
  },
  {
   "cell_type": "code",
   "execution_count": 82,
   "id": "81b4d6da-dfa5-4ec5-942a-97bd4626461c",
   "metadata": {},
   "outputs": [
    {
     "name": "stdout",
     "output_type": "stream",
     "text": [
      "[0 0 0 0 0 1 1 0 0 0 0 0 0 0 1 1 0 0 1 1 1 1 0 0 0 1 1 1 0 0 0 0 0 1 1 0 1\n",
      " 1 0 0 0 0 1 0 0 0 1 1 0 0 1 0 0 0 0 0 0 1 0 1 0 0 0 0 0 1 1 0 1 0 0 0 1 0\n",
      " 1 1 1 0 1 1 0 1 1 0 0 0 1 0 0 0 1 0 1 0 0 0 0 0 1 0 0 0 0 0 0 0 1 1 1 0 0\n",
      " 0 0 1 0 0 1 1 0 0 0 0 1 1 1 0 1 1 0 0 1 0 0 0 0 0 0 1 0 1 0 0 1 1 1 0 1 0\n",
      " 0 1 1 0 0 0 0 1 0 1 1 1 0 1 1 1 0 0 0 0 1 0 0 1 0 1 0 0 0 0 0 0 0 0 0 0 0\n",
      " 0 1 0 1 0 0 0 1 0 0 1 0 0 0 0 0 0 0 0 1 0 0 1 0 0 0 0 0 0 1 0 0 0 1 0 0 0\n",
      " 0]\n"
     ]
    }
   ],
   "source": [
    "print(Prediccion)"
   ]
  },
  {
   "cell_type": "markdown",
   "id": "a30917bb-e1f9-4c55-9f34-a887da6428ec",
   "metadata": {},
   "source": [
    "# Se evalua el desempeño del modelo"
   ]
  },
  {
   "cell_type": "markdown",
   "id": "529afdb8-9bc4-4a29-8369-fd3130325537",
   "metadata": {},
   "source": [
    "El modelo genera una prediccion, segun la informacion anterior que se imprimio"
   ]
  },
  {
   "cell_type": "code",
   "execution_count": 83,
   "id": "f52265df-28fa-436d-b573-77c32f4465b3",
   "metadata": {},
   "outputs": [
    {
     "name": "stdout",
     "output_type": "stream",
     "text": [
      "              precision    recall  f1-score   support\n",
      "\n",
      "           0       0.81      0.88      0.84       137\n",
      "           1       0.77      0.66      0.71        86\n",
      "\n",
      "    accuracy                           0.79       223\n",
      "   macro avg       0.79      0.77      0.78       223\n",
      "weighted avg       0.79      0.79      0.79       223\n",
      "\n"
     ]
    }
   ],
   "source": [
    "print(classification_report(y_test,Prediccion))"
   ]
  },
  {
   "cell_type": "markdown",
   "id": "c338baea-e1c5-473b-a38a-c545570e4660",
   "metadata": {},
   "source": [
    "# analisis \n",
    "**En este caso, la precisión para la clase 0 (no sobrevivió) es del 81%, lo que indica que el 81% de las predicciones de no sobrevivientes fueron correctas. Para la clase 1 (sobrevivió), la precisión es del 77%, lo que significa que el 77% de las predicciones de sobrevivientes fueron correctas \n",
    "el recall para la clase 0 (no sobrevivió) es del 88%, lo que indica que el 88% de los no sobrevivientes fueron identificados correctamente. Para la clase 1 (sobrevivió), el recall es del 66%, lo que significa que el 66% de los sobrevivientes fueron identificados correctamente.\n",
    "el F1-score para la clase 0 es del 84%, y para la clase 1 es del 71%.**"
   ]
  },
  {
   "cell_type": "markdown",
   "id": "6e36ea7b-e508-46c4-945a-66de94ba3bb9",
   "metadata": {},
   "source": [
    "# Graficas Matriz de Confusion"
   ]
  },
  {
   "cell_type": "code",
   "execution_count": 84,
   "id": "aec4e45a-fb4f-4e7b-9681-28c720430d7e",
   "metadata": {},
   "outputs": [
    {
     "name": "stdout",
     "output_type": "stream",
     "text": [
      "Matriz de Confusión:\n",
      "[[120  17]\n",
      " [ 29  57]]\n"
     ]
    },
    {
     "data": {
      "image/png": "[encoded data removed]",
      "text/plain": [
       "<Figure size 640x480 with 2 Axes>"
      ]
     },
     "metadata": {},
     "output_type": "display_data"
    }
   ],
   "source": [
    "#matriz de Confusion\n",
    "cm=confusion_matrix(y_test,Prediccion)\n",
    "disp=metrics.ConfusionMatrixDisplay(confusion_matrix=cm)\n",
    "disp.plot()\n",
    "print(\"Matriz de Confusión:\")\n",
    "print(cm)"
   ]
  },
  {
   "cell_type": "markdown",
   "id": "7df47753-45c5-4815-96f4-af6c84a973f2",
   "metadata": {},
   "source": [
    "# <span style=\"color:red\">Interpretar y analizar resultados</span>\r\n",
    "# 120 veces el algoritmo predijo que la persona no sobrevivió, lo cual fue correcto, 57 veces el algoritmo dijo que la persona no sobrevivió y efectivamente no sobrevivieron. <br> en los errores el modelo predijo que 29 personas no sobrevivieron pero estas si sobrevivieron y en 17 casos el modelo dijo que estas personas NO sobrevivirían pero estas si sobrevivieron\r\n"
   ]
  },
  {
   "cell_type": "markdown",
   "id": "c659a459-10d7-4d53-857c-35fa217dee96",
   "metadata": {},
   "source": [
    "**<h1> Curva de Precision del Modelo**"
   ]
  },
  {
   "cell_type": "code",
   "execution_count": 85,
   "id": "efa30017-1331-4658-95e8-5c04f3dd1cb9",
   "metadata": {},
   "outputs": [
    {
     "data": {
      "image/png": "[encoded data removed]",
      "text/plain": [
       "<Figure size 640x480 with 1 Axes>"
      ]
     },
     "metadata": {},
     "output_type": "display_data"
    }
   ],
   "source": [
    "from sklearn.metrics import RocCurveDisplay\n",
    "RocCurveDisplay.from_predictions(y_test, Prediccion)\n",
    "plt.show()"
   ]
  },
  {
   "cell_type": "markdown",
   "id": "caa99d72-0ff1-4b25-ba93-10eddb6dcc26",
   "metadata": {},
   "source": [
    "# <span style=\"color:red\"> Para nuestro caso de estudio, se tiene un AUC de 0.77 <br> Esto indica que el modelo tiene una capacidad moderadamente buena para clasificar correctamente las muestras en función de las predicciones realizadas.</span>"
   ]
  },
  {
   "cell_type": "code",
   "execution_count": 86,
   "id": "519e3c2b-3e18-46cd-b144-0fd8d3cdbb79",
   "metadata": {},
   "outputs": [
    {
     "data": {
      "image/png": "[encoded data removed]",
      "text/plain": [
       "<Figure size 800x600 with 1 Axes>"
      ]
     },
     "metadata": {},
     "output_type": "display_data"
    }
   ],
   "source": [
    "# Calcular la curva ROC\n",
    "from sklearn.metrics import roc_curve\n",
    "fpr, tpr, thresholds = roc_curve(y_test, Prediccion)\n",
    "\n",
    "# Graficar la curva ROC\n",
    "plt.figure(figsize=(8, 6))\n",
    "plt.plot(fpr, tpr, color='blue', lw=2, label='Curva ROC')\n",
    "plt.plot([0, 1], [0, 1], color='gray', linestyle='--')\n",
    "plt.xlabel('Tasa de Falsos Positivos (FPR)')\n",
    "plt.ylabel('Tasa de Verdaderos Positivos (TPR)')\n",
    "plt.title('Curva ROC')\n",
    "plt.legend(loc='lower right')\n",
    "plt.show()"
   ]
  },
  {
   "cell_type": "code",
   "execution_count": 41,
   "id": "52ffb381-8c88-4d70-84d4-ee22a9ca3857",
   "metadata": {},
   "outputs": [],
   "source": [
    "from sklearn.metrics import precision_recall_curve\n",
    "import matplotlib.pyplot as plt\n",
    "\n",
    "precision, recall, thresholds = precision_recall_curve(y_test, Prediccion)"
   ]
  },
  {
   "cell_type": "markdown",
   "id": "4ae274b0-c84e-4e9a-a6c6-27bcd030784d",
   "metadata": {},
   "source": [
    "**<h1> Curva de Precision Recall**"
   ]
  },
  {
   "cell_type": "code",
   "execution_count": 42,
   "id": "63e925cf-5e49-4dde-9d22-e877a923cfab",
   "metadata": {},
   "outputs": [
    {
     "data": {
      "image/png": "[encoded data removed]",
      "text/plain": [
       "<Figure size 640x480 with 1 Axes>"
      ]
     },
     "metadata": {},
     "output_type": "display_data"
    }
   ],
   "source": [
    "plt.plot(recall, precision, marker='.')\n",
    "plt.xlabel('Recall')\n",
    "plt.ylabel('Precision')\n",
    "plt.title('Curva de Precisión-Recall')\n",
    "plt.grid(True)\n",
    "plt.show()"
   ]
  },
  {
   "cell_type": "markdown",
   "id": "e5873a92-94c2-4907-9bcc-d072d5014ea5",
   "metadata": {},
   "source": [
    "# <span style=\"color:red\">Conclusiones  & resultados</span>"
   ]
  },
  {
   "cell_type": "markdown",
   "id": "2eef2b55-772f-4cc0-9a5d-1e2cf4962bb7",
   "metadata": {},
   "source": [
    "**Del desempeño del modelo podemos decir que:**<br>\n",
    "Como la Precisión del modelo mide la proporción de predicciones positivas verdaderas realizadas por el modelo, la precisión para la clase \"Sobrevivió\" es de 0.81, lo cual nos permite inferior que del 81% de los casos predichos como NO sobrevivió eran verdad. \n",
    "<br>\n",
    "Teniendo en cuanta que el Recall mide la proporción de predicciones positivas verdaderas entre todas las instancias se obtuvo el recall para la clase 0 (no sobrevivió) del 88%, lo que indica que el 88% de los no sobrevivientes fueron identificados correctamente, mientras que para la clase 1 (sobrevivió), el recall fue del 66%, lo que significa que el 66% de los sobrevivientes fueron identificados correctamente.<br>\n",
    "Respecto al F1-Score, esta media armónica de precisión y recuperación, se encarga de proporcionar una única puntuación que equilibra la precisión y el Recall, el resultado de nuestro caso fue del 84% para la clase NO SOBREVIVIÓ y 71% para la Clase SOBREVIVIÓ\n",
    "<br>\n",
    "Respecto a la curva de precisión del modelo, se obtuvo un valor de 0.77, lo que significa que el 69% de las predicciones del clasificador son correctas en todos los umbrales de clasificación\n",
    "Por ultimo de la matriz de confusion se obtuvo que: <br>\n",
    "120 veces el algoritmo predijo que la persona no sobrevivió, siendo correcto <br>57 veces el algoritmo dijo que la persona no sobrevivió fue correcto <br>El modelo predijo que 29 personas no sobrevivieron pero estas sobrevivieron(Error)<br> En 17 casos el modelo dijo que estas personas NO sobrevivirían pero estas si sobrevivieron(Error)"
   ]
  },
  {
   "cell_type": "markdown",
   "id": "a220cc34-0ef5-42b1-897c-ce8fd1b174d1",
   "metadata": {},
   "source": [
    "**Bibliografia**"
   ]
  },
  {
   "cell_type": "markdown",
   "id": "8cb92311-d983-4679-8bff-629b7d5e2bd5",
   "metadata": {},
   "source": [
    "Carlos Véliz. (2020). Aprendizaje automático. Introducción al aprendizaje profundo. El Fondo Editorial de la Pontificia Universidad Católica del Perú.https://bibliotecavirtual.unad.edu.co/login?url=https://search.ebscohost.com/login.aspx?direct=true&db=nlebk&AN=2600876&lang=es&site=eds-live&scope=site&ebv=EB&ppid=pp_I Cap 3, 4, 5 y 6 \n",
    "<br>\n",
    "<br>\n",
    "David Julian. (2016). Designing Machine Learning Systems with Python. Packt Publishing. https://bibliotecavirtual.unad.edu.co/login?url=https://search.ebscohost.com/login.aspx?direct=true&db=nlebk&AN=1218065&lang=es&site=eds-live&scope=site&ebv=EB&ppid=pp_Cover. Cap 2\n",
    "<br>\n",
    "<br>\n",
    "Giuseppe Bonaccorso. (2018). Machine Learning Algorithms : Popular Algorithms for Data Science and Machine Learning, 2nd Edition: Vol. 2nd ed. Packt Publishing. https://bibliotecavirtual.unad.edu.co/login?url=https://search.ebscohost.com/login.aspx?direct=true&db=nlebk&AN=1881497&lang=es&site=eds-live&scope=site&ebv=EB&ppid=pp_Cover Cap 3, 4, 5 y 8\n",
    "<br>\n",
    "<br>\n",
    "Minguillón, J. Casas, J. y Minguillón, J. (2017). Minería de datos: modelos y algoritmos. Editorial UOC. https://elibro-net.bibliotecavirtual.unad.edu.co/es/ereader/unad/58656. Cap 4, 5, 13\n",
    "<br>\n",
    "<br>\n",
    "Pratap Dangeti. (2017). Statistics for Machine Learning : Build Supervised, Unsupervised, and Reinforcement Learning Models Using Both Python and R. \n",
    "<br>\n",
    "Packt Publishing. https://bibliotecavirtual.unad.edu.co/login?url=https://search.ebscohost.com/login.aspx?direct=true&db=nlebk&AN=1560931&lang=es&site=eds-live&scope=site&ebv=EB&ppid=pp_Cover Cap 2, 3 y 4\n",
    "<br>\n",
    "<br>\n",
    "Romero Villafranca, R. y Zúnica Ramajo, L. (2020). Métodos estadísticos para ingenieros. Editorial de la Universidad Politécnica de Valencia. https://elibro-net.bibliotecavirtual.unad.edu.co/es/ereader/unad/129644. Cap 12"
   ]
  },
  {
   "cell_type": "code",
   "execution_count": null,
   "id": "2648a656-7f4f-47d8-827a-294d5c533f3d",
   "metadata": {},
   "outputs": [],
   "source": []
  }
 ],
 "metadata": {
  "kernelspec": {
   "display_name": "Python 3 (ipykernel)",
   "language": "python",
   "name": "python3"
  },
  "language_info": {
   "codemirror_mode": {
    "name": "ipython",
    "version": 3
   },
   "file_extension": ".py",
   "mimetype": "text/x-python",
   "name": "python",
   "nbconvert_exporter": "python",
   "pygments_lexer": "ipython3",
   "version": "3.11.7"
  }
 },
 "nbformat": 4,
 "nbformat_minor": 5
}
